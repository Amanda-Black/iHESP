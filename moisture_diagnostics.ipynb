{
 "cells": [
  {
   "cell_type": "code",
   "execution_count": 4,
   "metadata": {},
   "outputs": [],
   "source": [
    "#import xspharm\n",
    "import numpy as np\n",
    "import xarray as xr\n",
    "import pandas as pd\n",
    "#from doppyo import utils\n",
    "from scipy import interpolate\n",
    "import matplotlib.pyplot as plt\n",
    "from cartopy import crs as ccrs\n",
    "import matplotlib.ticker as mticker\n",
    "#from doppyo import diagnostic as dgn\n",
    "from cartopy.mpl.gridliner import LONGITUDE_FORMATTER, LATITUDE_FORMATTER"
   ]
  },
  {
   "cell_type": "markdown",
   "metadata": {},
   "source": [
    "### Integrated water vapor transport (IVT)"
   ]
  },
  {
   "cell_type": "markdown",
   "metadata": {},
   "source": [
    "Water vapor transport can be diagnosed on a global scale by vertically integrating water vapor flux in a column,\n",
    "\n",
    "$$Q_\\lambda= \\frac{1}{g}\\int_{sfc}^{300hPa}qu\\ dp$$\n",
    "\n",
    "$$Q_\\phi= \\frac{1}{g}\\int_{sfc}^{300hPa}qv\\ dp$$\n",
    "\n",
    "where $Q_\\lambda$ is the zonal water vapor transport, $Q_\\phi$ the meridional water vapor transport, $g$ the gravimetric constant, $q$ specific humidity, $u$ and $v$ the zonal and meridional component of total flow, respectively. IVT is then the magnitude of water vapor transport,\n",
    "\n",
    "$$IVT=\\sqrt{ Q_\\lambda ^{\\,\\,2}\\ +\\ Q_\\phi ^{\\,\\,2} }$$"
   ]
  },
  {
   "cell_type": "code",
   "execution_count": null,
   "metadata": {},
   "outputs": [],
   "source": [
    "#--Compute--#\n",
    "qu = ugrd * spfh\n",
    "qv = vgrd * spfh\n",
    "\n",
    "qu_int = utils.integrate(qu, over_dim=\"level\", x=(qu[\"level\"] * 100) / 9.81)\n",
    "qv_int = utils.integrate(qv, over_dim=\"level\", x=(qv[\"level\"] * 100) / 9.81)\n",
    "\n",
    "IVT = np.sqrt(np.square(qu_int) + np.square(qv_int))"
   ]
  },
  {
   "cell_type": "code",
   "execution_count": null,
   "metadata": {},
   "outputs": [],
   "source": [
    "#--Data written to disk--#\n",
    "path = r'/home/bla390/control_run/data/control_6_no_convect.IVT.15000101_17991231.nc'\n",
    "IVT = xr.open_dataset(path).IVT\n",
    "IVT_seasonalMeans = IVT.groupby(\"time.season\").mean(\"time\")"
   ]
  },
  {
   "cell_type": "code",
   "execution_count": null,
   "metadata": {},
   "outputs": [],
   "source": [
    "#== PLOT ==#\n",
    "\n",
    "levels = [0,50,100,150,200,250,300,350,400,450,500]\n",
    "\n",
    "fig = plt.figure(figsize=(10, 8))\n",
    "gsFig = plt.GridSpec(1, 1)\n",
    "gsFig.update(left=0.05, right=0.95, bottom = 0.10, top = 0.90, wspace=0.00, hspace = 0.00)\n",
    "axFig = plt.subplot(gsFig[0, 0], projection=ccrs.PlateCarree(180))\n",
    "image = IVT_seasonalMeans.sel(season=\"DJF\").plot.contourf(ax=axFig, levels = levels, cmap=plt.cm.Blues, add_colorbar=False, \n",
    "                                   extend='both', transform=ccrs.PlateCarree())\n",
    "axFig.coastlines()\n",
    "\n",
    "#--Modify gridlines\n",
    "gl = axFig.gridlines(crs=ccrs.PlateCarree(), draw_labels=True)\n",
    "gl.xlabels_top = False ; gl.ylabels_right = False\n",
    "gl.xformatter = LONGITUDE_FORMATTER ; gl.yformatter = LATITUDE_FORMATTER\n",
    "gl.xlocator = mticker.FixedLocator([0, 60, 120, 180, -120, -60])\n",
    "axFig.gridlines(crs=ccrs.PlateCarree(), draw_labels=False)\n",
    "gl.xlabel_style = {'size': 12} ; gl.ylabel_style = {'size': 12}\n",
    "\n",
    "#--Fix colorbar\n",
    "cbar = plt.colorbar(image, ax=axFig, fraction=0.02, pad=0.03)\n",
    "\n",
    "#--Labels\n",
    "axFig.set_title('Integrated Water Vapor Transport - DJF',fontsize=18)\n",
    "\n",
    "#--Save figure\n",
    "#plt.savefig('/home/bla390/control_run/images/IVT_DJF.png')"
   ]
  },
  {
   "cell_type": "markdown",
   "metadata": {},
   "source": [
    "### Rotational and divergent components of water vapor transport"
   ]
  },
  {
   "cell_type": "markdown",
   "metadata": {},
   "source": [
    "Total water vapor transport, $\\mathbf Q$, can be divided into its rotational and divergent components ($\\mathbf Q_R$ and $\\mathbf Q_D$, respectively) as follows,\n",
    "\n",
    "$$ \\mathbf Q= \\mathbf Q_R + \\mathbf Q_D = \\hat{k} \\times \\nabla \\psi_{\\mathbf Q} + \\nabla \\chi_{\\mathbf Q} $$\n",
    "\n",
    "where $\\psi_{\\mathbf Q}$ is the streamfunction of water vapor transport, and $\\chi_{\\mathbf Q}$ the potential function of water vapor transport. Therefore, the divergent component of vertically integrated water vapor transport is equivalent to the gradient of water vapor transport potential function. This leads to the following relationship,\n",
    "\n",
    "$$ \\nabla^2 \\chi_{\\mathbf Q} = \\nabla \\cdot \\mathbf Q $$\n",
    "\n",
    "so that we may solve the Poisson equation for $\\chi_{\\mathbf Q}$ using our derived values of $Q_\\lambda$ and $Q_\\phi$. We may then numerically differentiate the potential function of water vapor transport to solve for the divergent component of water vapor transport,\n",
    "\n",
    "$$ \\mathbf Q_D = \\frac{\\partial \\chi_{\\mathbf Q}}{\\partial x}\\hat{i} + \\frac{\\partial \\chi_{\\mathbf Q}}{\\partial y}\\hat{j} $$"
   ]
  },
  {
   "cell_type": "code",
   "execution_count": null,
   "metadata": {},
   "outputs": [],
   "source": []
  }
 ],
 "metadata": {
  "kernelspec": {
   "display_name": "Python 3",
   "language": "python",
   "name": "python3"
  },
  "language_info": {
   "codemirror_mode": {
    "name": "ipython",
    "version": 3
   },
   "file_extension": ".py",
   "mimetype": "text/x-python",
   "name": "python",
   "nbconvert_exporter": "python",
   "pygments_lexer": "ipython3",
   "version": "3.7.10"
  }
 },
 "nbformat": 4,
 "nbformat_minor": 4
}
