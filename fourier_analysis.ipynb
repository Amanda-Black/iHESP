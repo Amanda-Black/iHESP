{
 "cells": [
  {
   "cell_type": "code",
   "execution_count": null,
   "id": "3b0c1f83-570e-446c-b263-13b3b7a3b3be",
   "metadata": {},
   "outputs": [],
   "source": [
    "import glob\n",
    "import numpy as np\n",
    "import xarray as xr\n",
    "from datetime import datetime\n",
    "import matplotlib.pyplot as plt\n",
    "import matplotlib.ticker as mticker\n",
    "from scipy.fft import rfft, irfft, rfftfreq"
   ]
  },
  {
   "cell_type": "code",
   "execution_count": null,
   "id": "4b260d3e-2926-4c34-b5e1-f512fd099f70",
   "metadata": {
    "tags": []
   },
   "outputs": [],
   "source": [
    "import cartopy\n",
    "cartopy.config['pre_existing_data_dir']='/ihesp/shared/cartopy_features'\n",
    "import cartopy.crs as ccrs\n",
    "import cartopy.feature as cfeature\n",
    "from cartopy.mpl.gridliner import LONGITUDE_FORMATTER, LATITUDE_FORMATTER"
   ]
  },
  {
   "cell_type": "markdown",
   "id": "55d976be-e248-4dfd-b447-f61ea986de87",
   "metadata": {},
   "source": [
    "### WRF output (data credit: Dan Fu)"
   ]
  },
  {
   "cell_type": "code",
   "execution_count": null,
   "id": "17ceca07-4595-4b0c-9122-a62e4354ab72",
   "metadata": {},
   "outputs": [],
   "source": [
    "#-- Recommend 4 cores with 60GB memory\n",
    "\n",
    "path = r'/ihesp/shared/fudan1991/CESMdownscale/Thompson/'\n",
    "#filenames = glob.glob(path + 'cmpr_Thompson_wrfout_downscale*')\n",
    "filenames = glob.glob(path + 'cmpr_Thompson_wrfout_RAINNC_OLR_downscale*')\n",
    "filenames.sort()"
   ]
  },
  {
   "cell_type": "code",
   "execution_count": null,
   "id": "97047c78-3a69-46a7-b31c-a813614e3508",
   "metadata": {},
   "outputs": [],
   "source": [
    "filenames = filenames[31:123]"
   ]
  },
  {
   "cell_type": "code",
   "execution_count": null,
   "id": "9009e3ec-d027-4393-aca7-65639c9fd221",
   "metadata": {},
   "outputs": [],
   "source": [
    "start_loop = datetime.now()\n",
    "\n",
    "ds = xr.open_mfdataset(filenames,\n",
    "                       concat_dim='Time',\n",
    "                       combine='nested').RAINNC\n",
    "\n",
    "print('finished cell in: ', datetime.now() - start_loop)"
   ]
  },
  {
   "cell_type": "code",
   "execution_count": null,
   "id": "461be6ad-da4e-40bd-8d04-4786729c7a0c",
   "metadata": {},
   "outputs": [],
   "source": [
    "#-- Create lat, lon arrays\n",
    "a = ds[0].XLAT.values\n",
    "lat_vals = [i[0] for i in a]\n",
    "lon_vals = ds[0][0].XLONG.values"
   ]
  },
  {
   "cell_type": "code",
   "execution_count": null,
   "id": "ba50569e-a4be-48f1-8a56-01ca811710dd",
   "metadata": {},
   "outputs": [],
   "source": [
    "#time = xr.cftime_range(start=\"1987-06-01\", periods=368, freq=\"6H\", calendar=\"noleap\")\n",
    "time = xr.cftime_range(start=\"1987-06-01\", periods=2208, freq=\"1H\", calendar=\"noleap\")"
   ]
  },
  {
   "cell_type": "code",
   "execution_count": null,
   "id": "c243cb40-1078-4ed7-8288-b56cc69fb08f",
   "metadata": {},
   "outputs": [],
   "source": [
    "ds = xr.DataArray(\n",
    "    data=ds.data,\n",
    "    name=\"RAINNC\",\n",
    "    dims=[\"time\", \"lat\", \"lon\"],\n",
    "    coords=dict(\n",
    "                time=([\"time\"], time),\n",
    "                lat=([\"lat\"], lat_vals),\n",
    "                lon=([\"lon\"], lon_vals) ))"
   ]
  },
  {
   "cell_type": "code",
   "execution_count": null,
   "id": "7250b805-facb-4581-9301-c274dc596ab9",
   "metadata": {},
   "outputs": [],
   "source": [
    "ds = ds.sel(lat=slice(15,52), lon=slice(-120,-70))"
   ]
  },
  {
   "cell_type": "code",
   "execution_count": null,
   "id": "459639c5-6f87-47a2-91fc-9a63a82af226",
   "metadata": {},
   "outputs": [],
   "source": [
    "%%time\n",
    "ds.load()"
   ]
  },
  {
   "cell_type": "code",
   "execution_count": null,
   "id": "a94e870d-b308-496c-b72b-276f5e26914f",
   "metadata": {},
   "outputs": [],
   "source": [
    "#-- Post-process cumulative rainfall\n",
    "start_loop = datetime.now()\n",
    "\n",
    "ds_fixed = xr.zeros_like(ds)\n",
    "ds_old = ds.isel(time=0)\n",
    "\n",
    "for time in np.arange(0, len(ds.time)):\n",
    "    ds_fixed[time] = ds[time] - ds_old\n",
    "    ds_old = ds[time]\n",
    "    \n",
    "print('finished cell in: ', datetime.now() - start_loop)"
   ]
  },
  {
   "cell_type": "code",
   "execution_count": null,
   "id": "6a07c95b-92f8-40ea-aa7d-2d176935cfdb",
   "metadata": {},
   "outputs": [],
   "source": [
    "#-- Construct daily mean\n",
    "daily_mean = ds_fixed.resample(time='1D').mean(dim='time')"
   ]
  },
  {
   "cell_type": "code",
   "execution_count": null,
   "id": "82933da9-ae16-49c4-8496-872a6b27c090",
   "metadata": {},
   "outputs": [],
   "source": [
    "#-- Expand daily mean\n",
    "n=24\n",
    "daily_mean_24 = np.repeat(daily_mean.values, n, axis=0)"
   ]
  },
  {
   "cell_type": "code",
   "execution_count": null,
   "id": "f9327edc-c1e3-4cf1-b037-e8f339546dc3",
   "metadata": {},
   "outputs": [],
   "source": [
    "%whos"
   ]
  },
  {
   "cell_type": "code",
   "execution_count": null,
   "id": "592feba7-e876-4ed0-b187-58170178254e",
   "metadata": {},
   "outputs": [],
   "source": [
    "del ds\n",
    "del ds_old\n",
    "del daily_mean"
   ]
  },
  {
   "cell_type": "code",
   "execution_count": null,
   "id": "9ab81fbe-4408-427b-b80e-10b43c7a6930",
   "metadata": {},
   "outputs": [],
   "source": [
    "#-- Compute departure from daily mean\n",
    "departure_daily_mean = np.subtract(ds_fixed.data, daily_mean_24)"
   ]
  },
  {
   "cell_type": "code",
   "execution_count": null,
   "id": "a7c98e78-41cf-40c7-958d-b3e02def09a9",
   "metadata": {},
   "outputs": [],
   "source": [
    "departure_daily_mean_xr = xr.DataArray(\n",
    "    data=departure_daily_mean.data,\n",
    "    dims=[\"time\", \"lat\", \"lon\"],\n",
    "    coords=dict(\n",
    "                time=([\"time\"], ds_fixed.time.data),\n",
    "                lat=([\"lat\"], ds_fixed.lat.data),\n",
    "                lon=([\"lon\"], ds_fixed.lon.data) ))"
   ]
  },
  {
   "cell_type": "code",
   "execution_count": null,
   "id": "18f89215-4819-4d63-bd48-72038a6795e7",
   "metadata": {},
   "outputs": [],
   "source": [
    "#-- Construst a composite day using all departures from daily mean\n",
    "composite_departure = departure_daily_mean_xr.groupby(\"time.hour\").mean()"
   ]
  },
  {
   "cell_type": "code",
   "execution_count": null,
   "id": "f42b6531-6736-4cfb-993d-dd2c3ff79c71",
   "metadata": {},
   "outputs": [],
   "source": [
    "#-- Loop through lat/lon to compute s1 for '24-hour composite day' at each grid point\n",
    "s_1 = xr.zeros_like(composite_departure)\n",
    "\n",
    "start_loop = datetime.now()\n",
    "for lat_idx in np.arange(0, len(composite_departure.lat)):\n",
    "    for lon_idx in np.arange(0, len(composite_departure.lon)):\n",
    "        \n",
    "        y = composite_departure.isel(lat=lat_idx, lon=lon_idx).values\n",
    "        data_step = 1\n",
    "        t = np.arange(start=0,stop=len(y),step=data_step)\n",
    "        n = len(y)\n",
    "        yf = rfft(y)\n",
    "        xf = rfftfreq(n,data_step)\n",
    "        \n",
    "        yf_abs = np.abs(yf) \n",
    "        indices = yf_abs>= yf_abs.max()   # filter out those value under the max value (only take 1st peak)\n",
    "        yf_clean = indices * yf # noise frequency will be set to 0\n",
    "        \n",
    "        new_f_clean = irfft(yf_clean)\n",
    "        s_1[:,lat_idx,lon_idx] = new_f_clean\n",
    "        \n",
    "    print('finished 1 lat loop:', lat_idx, datetime.now() - start_loop)\n",
    "        \n",
    "print('finished loop to compute s1:', datetime.now() - start_loop)\n",
    "        \n",
    "s_1 = s_1.rename('PRECT_s1')"
   ]
  },
  {
   "cell_type": "code",
   "execution_count": null,
   "id": "d34b8936-3a7d-492f-ac11-f3bb537121b7",
   "metadata": {},
   "outputs": [],
   "source": [
    "s_1"
   ]
  },
  {
   "cell_type": "markdown",
   "id": "b0af13b1-cd75-4a09-a811-21458271a368",
   "metadata": {},
   "source": [
    "### AMIP-HR 6-hourly PRECT"
   ]
  },
  {
   "cell_type": "code",
   "execution_count": null,
   "id": "87f09661-a5de-4176-809e-6413e3ae6472",
   "metadata": {
    "tags": []
   },
   "outputs": [],
   "source": [
    "#-- HRAMIP 6-hourly precip data - regridded\n",
    "year = '1981'\n",
    "\n",
    "path = '/ihesp/user/asblack/regridded/'\n",
    "f_1 = 'cam_h2_HR_PRECT_'+year+'052700Z_'+year+'070206Z.nc'\n",
    "f_2 = 'cam_h2_HR_PRECT_'+year+'070212Z_'+year+'080718Z.nc'\n",
    "f_3 = 'cam_h2_HR_PRECT_'+year+'080800Z_'+year+'091306Z.nc'\n",
    "\n",
    "ds = xr.open_mfdataset((path+f_1, path+f_2, path+f_3)).PRECT"
   ]
  },
  {
   "cell_type": "markdown",
   "id": "79e29858-0719-49d9-9ea6-cdaa48989f2e",
   "metadata": {},
   "source": [
    "### 1-hourly PRECT"
   ]
  },
  {
   "cell_type": "code",
   "execution_count": null,
   "id": "775d32d5-06f5-4a03-9570-4af60eb850f5",
   "metadata": {},
   "outputs": [],
   "source": [
    "#-- HRMIP hourly precip data - regridded\n",
    "year = '1989'\n",
    "\n",
    "path = '/ihesp/user/asblack/regridded/'\n",
    "f_1 = 'cam_h5_HR_PRECT_'+year+'052701Z_'+year+'061406Z.nc'\n",
    "f_2 = 'cam_h5_HR_PRECT_'+year+'061407Z_'+year+'070212Z.nc'\n",
    "f_3 = 'cam_h5_HR_PRECT_'+year+'070213Z_'+year+'072018Z.nc'\n",
    "f_4 = 'cam_h5_HR_PRECT_'+year+'072019Z_'+year+'080800Z.nc'\n",
    "f_5 = 'cam_h5_HR_PRECT_'+year+'080801Z_'+year+'082606Z.nc'\n",
    "f_6 = 'cam_h5_HR_PRECT_'+year+'082607Z_'+year+'091312Z.nc'\n",
    "\n",
    "ds = xr.open_mfdataset((path+f_1, path+f_2, path+f_3,\n",
    "                        path+f_4, path+f_5, path+f_6)).PRECT\n",
    "\n",
    "#-- Need to switch to slice by time label instead of location (.sel throws error)\n",
    "#-- Slice over JJA months\n",
    "ds = ds.isel(time=slice(119,2327))"
   ]
  },
  {
   "cell_type": "code",
   "execution_count": null,
   "id": "8d572127-9757-4dae-ab5d-84808c68e04c",
   "metadata": {},
   "outputs": [],
   "source": [
    "#-- LRMIP hourly precip data - regridded\n",
    "year = '1988'\n",
    "\n",
    "path = r'/ihesp/user/asblack/regridded/'\n",
    "f_1 = 'cam_h5_LR_PRECT_'+year+'052700Z_'+year+'061405Z.nc'\n",
    "f_2 = 'cam_h5_LR_PRECT_'+year+'061406Z_'+year+'070211Z.nc'\n",
    "f_3 = 'cam_h5_LR_PRECT_'+year+'070212Z_'+year+'072017Z.nc'\n",
    "f_4 = 'cam_h5_LR_PRECT_'+year+'072018Z_'+year+'080723Z.nc'\n",
    "f_5 = 'cam_h5_LR_PRECT_'+year+'080800Z_'+year+'082605Z.nc'\n",
    "f_6 = 'cam_h5_LR_PRECT_'+year+'082606Z_'+year+'091311Z.nc'\n",
    "\n",
    "ds = xr.open_mfdataset((path+f_1, path+f_2, path+f_3,\n",
    "                        path+f_4, path+f_5, path+f_6)).PRECT\n",
    "\n",
    "#-- Need to switch to slice by time label instead of location (.sel throws error)\n",
    "#-- Slice over JJA months\n",
    "ds = ds.isel(time=slice(120,2328))"
   ]
  },
  {
   "cell_type": "code",
   "execution_count": null,
   "id": "554d07f1-9bfd-49ab-ba5d-335b11b0e2e2",
   "metadata": {},
   "outputs": [],
   "source": [
    "#-- Slice over GoM region\n",
    "global_offset = 360\n",
    "ds = ds.sel(lat=slice(15,55), lon=slice(global_offset-120,global_offset-70))"
   ]
  },
  {
   "cell_type": "code",
   "execution_count": null,
   "id": "b2c80bd3-0143-4ba2-bb1d-ea5e07e97bd6",
   "metadata": {},
   "outputs": [],
   "source": [
    "#-- Load into memory\n",
    "ds.load()"
   ]
  },
  {
   "cell_type": "code",
   "execution_count": null,
   "id": "dc7deccd-9467-4cb2-961c-3ed03dda3a1d",
   "metadata": {},
   "outputs": [],
   "source": [
    "#-- Construct daily mean\n",
    "daily_mean = ds.resample(time='1D').mean(dim='time')"
   ]
  },
  {
   "cell_type": "code",
   "execution_count": null,
   "id": "3d4ad6f2-3d30-4a32-8143-2db0c15bda1e",
   "metadata": {},
   "outputs": [],
   "source": [
    "#-- Expand daily mean\n",
    "n=24\n",
    "daily_mean_24 = np.repeat(daily_mean.values, n, axis=0)"
   ]
  },
  {
   "cell_type": "code",
   "execution_count": null,
   "id": "4bcf2d92-9c4c-4dfb-9490-3f4ba7c598a3",
   "metadata": {},
   "outputs": [],
   "source": [
    "#-- Compute departure from daily mean\n",
    "departure_daily_mean = ds - daily_mean_24"
   ]
  },
  {
   "cell_type": "markdown",
   "id": "8e1aeb45-54e6-4f6f-9b45-62ae77efb4a7",
   "metadata": {},
   "source": [
    "### LRMIP 6-hourly PRECT"
   ]
  },
  {
   "cell_type": "code",
   "execution_count": null,
   "id": "9b3fd4b9-98b9-47f7-be5b-cb6cfa8c507d",
   "metadata": {},
   "outputs": [],
   "source": [
    "#-- LRMIP 6-hourly (instantaneous) precip data - regridded\n",
    "year = '1982'\n",
    "\n",
    "path = '/ihesp/user/asblack/regridded/'\n",
    "f_1 = 'cam_h2_LR_PRECT_'+year+'052700Z_'+year+'070206Z.nc'\n",
    "f_2 = 'cam_h2_LR_PRECT_'+year+'070212Z_'+year+'080718Z.nc'\n",
    "f_3 = 'cam_h2_LR_PRECT_'+year+'080800Z_'+year+'091306Z.nc'\n",
    "\n",
    "ds = xr.open_mfdataset((path+f_1, path+f_2, path+f_3)).PRECT"
   ]
  },
  {
   "cell_type": "code",
   "execution_count": null,
   "id": "5e00cdf7-a2e1-485d-b516-8c6c5bf0b189",
   "metadata": {},
   "outputs": [],
   "source": [
    "#-- Need to switch to slice by time label instead of location (.sel throws error)\n",
    "#-- Slice over JJA months\n",
    "ds = ds.isel(time=slice(20,388))"
   ]
  },
  {
   "cell_type": "code",
   "execution_count": null,
   "id": "ade72923-a118-44ad-892a-b8e7844622aa",
   "metadata": {},
   "outputs": [],
   "source": [
    "#-- Slice over GoM region\n",
    "global_offset = 360\n",
    "ds = ds.sel(lat=slice(15,55), lon=slice(global_offset-120,global_offset-70))"
   ]
  },
  {
   "cell_type": "code",
   "execution_count": null,
   "id": "dbcc5bc9-bf9d-4b7a-b332-98efc15e9a24",
   "metadata": {},
   "outputs": [],
   "source": [
    "#-- Load into memory\n",
    "ds.load()"
   ]
  },
  {
   "cell_type": "code",
   "execution_count": null,
   "id": "0627a4b1-a6a3-4d73-96c6-5717ed94cbaf",
   "metadata": {},
   "outputs": [],
   "source": [
    "#-- Construct daily mean\n",
    "daily_mean = ds.resample(time='1D').mean(dim='time')"
   ]
  },
  {
   "cell_type": "code",
   "execution_count": null,
   "id": "9f4cf4d1-c405-43ba-96f6-c88685418be1",
   "metadata": {},
   "outputs": [],
   "source": [
    "#-- Expand daily mean\n",
    "n=4\n",
    "daily_mean_4 = np.repeat(daily_mean.values, n, axis=0)"
   ]
  },
  {
   "cell_type": "code",
   "execution_count": null,
   "id": "79f39d55-423e-4585-9412-183e8bebfce9",
   "metadata": {},
   "outputs": [],
   "source": [
    "#-- Compute departure from daily mean\n",
    "departure_daily_mean = ds - daily_mean_4"
   ]
  },
  {
   "cell_type": "markdown",
   "id": "22f703a3-6522-4ed1-a9d3-4c554639cbbb",
   "metadata": {},
   "source": [
    "### s1 fourier component of '24-hour composite day'"
   ]
  },
  {
   "cell_type": "code",
   "execution_count": null,
   "id": "bc299ccf-0874-4352-9f06-458fd201ac48",
   "metadata": {},
   "outputs": [],
   "source": [
    "#-- Construst a composite day using all departures from daily mean\n",
    "composite_departure = departure_daily_mean.groupby(\"time.hour\").mean()"
   ]
  },
  {
   "cell_type": "code",
   "execution_count": null,
   "id": "3e762f2a-ee95-4f56-ba9e-7da1d65617a7",
   "metadata": {},
   "outputs": [],
   "source": [
    "#-- Loop through lat/lon to compute s1 for '24-hour composite day' at each grid point\n",
    "s_1 = xr.zeros_like(composite_departure)\n",
    "\n",
    "start_loop = datetime.now()\n",
    "for lat_idx in np.arange(0, len(composite_departure.lat)):\n",
    "    for lon_idx in np.arange(0, len(composite_departure.lon)):\n",
    "        \n",
    "        y = composite_departure.isel(lat=lat_idx, lon=lon_idx).values\n",
    "        data_step = 1\n",
    "        t = np.arange(start=0,stop=len(y),step=data_step)\n",
    "        n = len(y)\n",
    "        yf = rfft(y)\n",
    "        xf = rfftfreq(n,data_step)\n",
    "        \n",
    "        yf_abs = np.abs(yf) \n",
    "        indices = yf_abs>= yf_abs.max()   # filter out those value under the max value (only take 1st peak)\n",
    "        yf_clean = indices * yf # noise frequency will be set to 0\n",
    "        \n",
    "        new_f_clean = irfft(yf_clean)\n",
    "        s_1[:,lat_idx,lon_idx] = new_f_clean\n",
    "        \n",
    "print('finished loop to compute s1:', datetime.now() - start_loop)\n",
    "        \n",
    "s_1 = s_1.rename('PRECT_s1')"
   ]
  },
  {
   "cell_type": "code",
   "execution_count": null,
   "id": "b6d8f76b-d8a0-4470-b51a-0558ada76d9a",
   "metadata": {},
   "outputs": [],
   "source": [
    "#-- Write to output file - HRMIP 1-hourly precip\n",
    "ds_PRECT = xr.Dataset(\n",
    "            data_vars=dict(\n",
    "                departure_daily_mean=([\"time\", \"lat\", \"lon\"], departure_daily_mean.data),\n",
    "                daily_mean = ([\"day\", \"lat\", \"lon\"], daily_mean.data),\n",
    "                s_1=([\"hour\", \"lat\", \"lon\"], s_1.data)\n",
    "            ),\n",
    "            coords=dict(\n",
    "                time=([\"time\"], departure_daily_mean.time.data),\n",
    "                day=([\"day\"], daily_mean.time.data),\n",
    "                hour=([\"hour\"], s_1.hour.data),\n",
    "                lat=([\"lat\"], departure_daily_mean.lat.data),\n",
    "                lon=([\"lon\"], departure_daily_mean.lon.data)\n",
    "            ),\n",
    "            attrs=dict(description=\"original file location: /ihesp/archive/HRMIP/B.E.13.B1950TRC5.ne120_t12.cesm-ihesp-1950-2050.shrflx.001/atm/hist/, s_1 computed using scipy fast fourier transform\" )\n",
    "    \n",
    ")\n",
    "\n",
    "path = '/ihesp/user/asblack/diurnal_PRECT/'\n",
    "filename = 'cam_h5_HR_PRECT_s1_'+year+'_JJA.nc'\n",
    "ds_PRECT.to_netcdf(path + filename)"
   ]
  },
  {
   "cell_type": "code",
   "execution_count": null,
   "id": "1d397351-08a3-4a6d-b69d-deaefa8b1b84",
   "metadata": {},
   "outputs": [],
   "source": [
    "#-- Write to output file - LRMIP 1-hourly precip\n",
    "ds_PRECT = xr.Dataset(\n",
    "            data_vars=dict(\n",
    "                departure_daily_mean=([\"time\", \"lat\", \"lon\"], departure_daily_mean.data),\n",
    "                daily_mean = ([\"day\", \"lat\", \"lon\"], daily_mean.data),\n",
    "                s_1=([\"hour\", \"lat\", \"lon\"], s_1.data)\n",
    "            ),\n",
    "            coords=dict(\n",
    "                time=([\"time\"], departure_daily_mean.time.data),\n",
    "                day=([\"day\"], daily_mean.time.data),\n",
    "                hour=([\"hour\"], s_1.hour.data),\n",
    "                lat=([\"lat\"], departure_daily_mean.lat.data),\n",
    "                lon=([\"lon\"], departure_daily_mean.lon.data)\n",
    "            ),\n",
    "            attrs=dict(description=\"original file location: /scratch/user/asblack/test_CESM13/b.e13.B1950TRC5.ne30_g16.cesm-ihesp-hires1.0.42.hourly.001/run/, s_1 computed using scipy fast fourier transform\" )\n",
    "    \n",
    ")\n",
    "\n",
    "path = '/ihesp/user/asblack/diurnal_precip/'\n",
    "filename = 'cam_h5_LR_PRECT_s1_'+year+'_JJA.nc'\n",
    "ds_PRECT.to_netcdf(path + filename)"
   ]
  },
  {
   "cell_type": "code",
   "execution_count": null,
   "id": "771e81ad-5933-48fa-9e08-1e77f1f4c989",
   "metadata": {},
   "outputs": [],
   "source": [
    "#-- Write to output file - LRMIP 6-hourly precip\n",
    "ds_PRECT = xr.Dataset(\n",
    "            data_vars=dict(\n",
    "                departure_daily_mean=([\"time\", \"lat\", \"lon\"], departure_daily_mean.data),\n",
    "                daily_mean = ([\"day\", \"lat\", \"lon\"], daily_mean.data),\n",
    "                s_1=([\"hour\", \"lat\", \"lon\"], s_1.data)\n",
    "            ),\n",
    "            coords=dict(\n",
    "                time=([\"time\"], departure_daily_mean.time.data),\n",
    "                day=([\"day\"], daily_mean.time.data),\n",
    "                hour=([\"hour\"], s_1.hour.data),\n",
    "                lat=([\"lat\"], departure_daily_mean.lat.data),\n",
    "                lon=([\"lon\"], departure_daily_mean.lon.data)\n",
    "            ),\n",
    "            attrs=dict(description=\"original file location: /ihesp/archive/LR/b.e13.B1950TRC5.ne30_g16.ihesp24_1950-2050.002/atm/hist/, s_1 computed using scipy fast fourier transform\" )\n",
    "    \n",
    ")\n",
    "\n",
    "path = '/ihesp/user/asblack/diurnal_PRECT/'\n",
    "filename = 'cam_h2_LR_PRECT_s1_'+year+'_JJA.nc'\n",
    "ds_PRECT.to_netcdf(path + filename)"
   ]
  },
  {
   "cell_type": "code",
   "execution_count": null,
   "id": "41572cdf-e80d-4b0e-8ead-22ae74788a89",
   "metadata": {},
   "outputs": [],
   "source": [
    "#-- Write to output file - AMIP-HR 6-hourly precip\n",
    "ds_PRECT = xr.Dataset(\n",
    "            data_vars=dict(\n",
    "                departure_daily_mean=([\"time\", \"lat\", \"lon\"], departure_daily_mean.data),\n",
    "                daily_mean = ([\"day\", \"lat\", \"lon\"], daily_mean.data),\n",
    "                s_1=([\"hour\", \"lat\", \"lon\"], s_1.data)\n",
    "            ),\n",
    "            coords=dict(\n",
    "                time=([\"time\"], departure_daily_mean.time.data),\n",
    "                day=([\"day\"], daily_mean.time.data),\n",
    "                hour=([\"hour\"], s_1.hour.data),\n",
    "                lat=([\"lat\"], departure_daily_mean.lat.data),\n",
    "                lon=([\"lon\"], departure_daily_mean.lon.data)\n",
    "            ),\n",
    "            attrs=dict(description=\"original file location: /ihesp/archive/AMIP/f.e13.FAMIPC5.ne120_ne120_mt12.cesm-ihesp-1950-2050.001/atm/hist/, s_1 computed using scipy fast fourier transform\" )\n",
    "    \n",
    ")\n",
    "\n",
    "path = '/ihesp/user/asblack/diurnal_PRECT/'\n",
    "filename = 'cam_h2_AMIP_HR_PRECT_s1_'+year+'_JJA.nc'\n",
    "ds_PRECT.to_netcdf(path + filename)"
   ]
  },
  {
   "cell_type": "code",
   "execution_count": null,
   "id": "1e5f9b99-e8c8-4256-8669-9a2a69726d20",
   "metadata": {},
   "outputs": [],
   "source": [
    "#-- Write to output file - AMIP-LR 6-hourly precip\n",
    "ds_PRECT = xr.Dataset(\n",
    "            data_vars=dict(\n",
    "                departure_daily_mean=([\"time\", \"lat\", \"lon\"], departure_daily_mean.data),\n",
    "                daily_mean = ([\"day\", \"lat\", \"lon\"], daily_mean.data),\n",
    "                s_1=([\"hour\", \"lat\", \"lon\"], s_1.data)\n",
    "            ),\n",
    "            coords=dict(\n",
    "                time=([\"time\"], departure_daily_mean.time.data),\n",
    "                day=([\"day\"], daily_mean.time.data),\n",
    "                hour=([\"hour\"], s_1.hour.data),\n",
    "                lat=([\"lat\"], departure_daily_mean.lat.data),\n",
    "                lon=([\"lon\"], departure_daily_mean.lon.data)\n",
    "            ),\n",
    "            attrs=dict(description=\"original file location: /ihesp/archive/AMIP/f.e13.FAMIPC5.ne30_ne30_mt12.ihesp24_1950-2050.001/atm/hist/, s_1 computed using scipy fast fourier transform\" )\n",
    "    \n",
    ")\n",
    "\n",
    "path = '/ihesp/user/asblack/diurnal_PRECT/'\n",
    "filename = 'cam_h2_AMIP_LR_PRECT_s1_'+year+'_JJA.nc'\n",
    "ds_PRECT.to_netcdf(path + filename)"
   ]
  },
  {
   "cell_type": "markdown",
   "id": "109e673b-3bcf-4d14-883a-1641fe3bf5b7",
   "metadata": {},
   "source": [
    "### Plot check"
   ]
  },
  {
   "cell_type": "code",
   "execution_count": null,
   "id": "a7b06ef3-6dc5-4f63-9000-1d379760d137",
   "metadata": {},
   "outputs": [],
   "source": [
    "year = '1980'\n",
    "\n",
    "path = '/ihesp/user/asblack/diurnal_precip/'\n",
    "filename = 'cam_h5_LR_PRECT_s1_'+year+'_JJA.nc'\n",
    "departure_daily_mean = xr.open_dataset(path + filename).departure_daily_mean\n",
    "s_1 = xr.open_dataset(path + filename).s_1"
   ]
  },
  {
   "cell_type": "code",
   "execution_count": null,
   "id": "e530658f-335e-472a-af15-e2daffcd232f",
   "metadata": {},
   "outputs": [],
   "source": [
    "departure_daily_mean"
   ]
  },
  {
   "cell_type": "code",
   "execution_count": null,
   "id": "3ca234d5-5158-4993-8543-b01fe6aad127",
   "metadata": {},
   "outputs": [],
   "source": [
    "#-- Construst a composite day using all departures from daily mean\n",
    "composite_departure = departure_daily_mean.groupby(\"time.hour\").mean()"
   ]
  },
  {
   "cell_type": "code",
   "execution_count": null,
   "id": "723f0a62-0468-4e06-9a6e-35ccb56bba72",
   "metadata": {},
   "outputs": [],
   "source": [
    "#-- Plot side by side\n",
    "f, (ax1, ax2) = plt.subplots(1, 2, figsize=(8, 4), sharey=True)\n",
    "\n",
    "composite_departure.isel(lat=22, lon=31).plot.line(ax=ax1)\n",
    "ax1.set_ylabel('composite departure from daily mean')\n",
    "\n",
    "s_1.isel(lat=22, lon=31).plot.line(ax=ax2)\n",
    "ax2.set_ylabel('fft s1')\n",
    "\n",
    "# Show\n",
    "plt.tight_layout()\n",
    "plt.show()"
   ]
  },
  {
   "cell_type": "code",
   "execution_count": null,
   "id": "00b6616a-97f2-44dc-8e5f-72dd9e80425f",
   "metadata": {},
   "outputs": [],
   "source": [
    "#-- Plot overlapping\n",
    "f, (ax1) = plt.subplots(figsize=(8, 4))\n",
    "\n",
    "composite_departure.isel(lat=22,lon=31).plot.line(ax=ax1, label='composite departure')\n",
    "s_1.isel(lat=22,lon=31).plot.line(ax=ax1, label='fft s1')\n",
    "ax1.set_ylabel('amplitude')\n",
    "\n",
    "# Show\n",
    "ax1.legend()\n",
    "plt.tight_layout()\n",
    "plt.show()"
   ]
  },
  {
   "cell_type": "markdown",
   "id": "4316d25b-3314-434f-992d-5809a83f009d",
   "metadata": {},
   "source": [
    "### Plot JJA s_1 composites"
   ]
  },
  {
   "cell_type": "code",
   "execution_count": null,
   "id": "e27e5fef-db8c-41f5-98de-2333a8e69fdd",
   "metadata": {},
   "outputs": [],
   "source": [
    "# ds_1 = xr.open_dataset('/ihesp/user/asblack/diurnal_precip/cam_h5_HR_PRECT_s1_1980_JJA.nc')\n",
    "# ds_2 = xr.open_dataset('/ihesp/user/asblack/diurnal_precip/cam_h5_HR_PRECT_s1_1981_JJA.nc')\n",
    "# ds_3 = xr.open_dataset('/ihesp/user/asblack/diurnal_precip/cam_h5_HR_PRECT_s1_1982_JJA.nc')\n",
    "# ds_4 = xr.open_dataset('/ihesp/user/asblack/diurnal_precip/cam_h5_HR_PRECT_s1_1983_JJA.nc')\n",
    "# ds_5 = xr.open_dataset('/ihesp/user/asblack/diurnal_precip/cam_h5_HR_PRECT_s1_1984_JJA.nc')\n",
    "# ds_6 = xr.open_dataset('/ihesp/user/asblack/diurnal_precip/cam_h5_HR_PRECT_s1_1985_JJA.nc')\n",
    "# ds_7 = xr.open_dataset('/ihesp/user/asblack/diurnal_precip/cam_h5_HR_PRECT_s1_1986_JJA.nc')\n",
    "# ds_8 = xr.open_dataset('/ihesp/user/asblack/diurnal_precip/cam_h5_HR_PRECT_s1_1987_JJA.nc')\n",
    "# ds_9 = xr.open_dataset('/ihesp/user/asblack/diurnal_precip/cam_h5_HR_PRECT_s1_1988_JJA.nc')\n",
    "# ds_10 = xr.open_dataset('/ihesp/user/asblack/diurnal_precip/cam_h5_HR_PRECT_s1_1989_JJA.nc')"
   ]
  },
  {
   "cell_type": "code",
   "execution_count": null,
   "id": "33145705-1f1a-4923-bed0-b2856b7990c0",
   "metadata": {},
   "outputs": [],
   "source": [
    "ds_1 = xr.open_dataset('/ihesp/user/asblack/diurnal_precip/cam_h5_LR_PRECT_s1_1980_JJA.nc')\n",
    "ds_2 = xr.open_dataset('/ihesp/user/asblack/diurnal_precip/cam_h5_LR_PRECT_s1_1981_JJA.nc')\n",
    "ds_3 = xr.open_dataset('/ihesp/user/asblack/diurnal_precip/cam_h5_LR_PRECT_s1_1982_JJA.nc')\n",
    "ds_4 = xr.open_dataset('/ihesp/user/asblack/diurnal_precip/cam_h5_LR_PRECT_s1_1983_JJA.nc')\n",
    "ds_5 = xr.open_dataset('/ihesp/user/asblack/diurnal_precip/cam_h5_LR_PRECT_s1_1984_JJA.nc')\n",
    "ds_6 = xr.open_dataset('/ihesp/user/asblack/diurnal_precip/cam_h5_LR_PRECT_s1_1985_JJA.nc')\n",
    "ds_7 = xr.open_dataset('/ihesp/user/asblack/diurnal_precip/cam_h5_LR_PRECT_s1_1986_JJA.nc')\n",
    "ds_8 = xr.open_dataset('/ihesp/user/asblack/diurnal_precip/cam_h5_LR_PRECT_s1_1987_JJA.nc')\n",
    "ds_9 = xr.open_dataset('/ihesp/user/asblack/diurnal_precip/cam_h5_LR_PRECT_s1_1988_JJA.nc')\n",
    "\n",
    "composite_diurnal_peak_amplitude = (ds_1.s_1.max(dim='hour') + ds_2.s_1.max(dim='hour') + ds_3.s_1.max(dim='hour')\n",
    "                                   +ds_4.s_1.max(dim='hour') + ds_5.s_1.max(dim='hour') + ds_6.s_1.max(dim='hour')\n",
    "                                   +ds_7.s_1.max(dim='hour') + ds_8.s_1.max(dim='hour') + ds_9.s_1.max(dim='hour') ) / 9.0\n",
    "\n",
    "composite_diurnal_peak_phase = (ds_1.s_1.idxmax(dim='hour') + ds_2.s_1.idxmax(dim='hour') + ds_3.s_1.idxmax(dim='hour')\n",
    "                               +ds_4.s_1.idxmax(dim='hour') + ds_5.s_1.idxmax(dim='hour') + ds_6.s_1.idxmax(dim='hour')\n",
    "                               +ds_7.s_1.idxmax(dim='hour') + ds_8.s_1.idxmax(dim='hour') + ds_9.s_1.idxmax(dim='hour') ) / 9.0"
   ]
  },
  {
   "cell_type": "code",
   "execution_count": null,
   "id": "8c45eb52-a093-40f3-805d-3b90645e54eb",
   "metadata": {},
   "outputs": [],
   "source": [
    "composite_diurnal_peak_amplitude = (ds_1.s_1.max(dim='hour') + ds_2.s_1.max(dim='hour') + ds_3.s_1.max(dim='hour')\n",
    "                                   +ds_4.s_1.max(dim='hour') + ds_5.s_1.max(dim='hour') + ds_6.s_1.max(dim='hour')\n",
    "                                   +ds_7.s_1.max(dim='hour') + ds_8.s_1.max(dim='hour') + ds_9.s_1.max(dim='hour') + ds_10.s_1.max(dim='hour')) / 10.0"
   ]
  },
  {
   "cell_type": "code",
   "execution_count": null,
   "id": "df7aa37d-3446-4e58-b2b0-942da652d372",
   "metadata": {},
   "outputs": [],
   "source": [
    "composite_diurnal_peak_phase = (ds_1.s_1.idxmax(dim='hour') + ds_2.s_1.idxmax(dim='hour') + ds_3.s_1.idxmax(dim='hour')\n",
    "                               +ds_4.s_1.idxmax(dim='hour') + ds_5.s_1.idxmax(dim='hour') + ds_6.s_1.idxmax(dim='hour')\n",
    "                               +ds_7.s_1.idxmax(dim='hour') + ds_8.s_1.idxmax(dim='hour') + ds_9.s_1.idxmax(dim='hour') + ds_10.s_1.idxmax(dim='hour')) / 10.0"
   ]
  },
  {
   "cell_type": "code",
   "execution_count": null,
   "id": "ece3dbf5-0dee-4792-b14e-15e70bc1e751",
   "metadata": {},
   "outputs": [],
   "source": [
    "#-- Set figure plot bounds\n",
    "fig = plt.figure(figsize=(12, 10))\n",
    "\n",
    "gsFig = plt.GridSpec(1, 1)\n",
    "gsFig.update(left=0.10, right=0.90, bottom = 0.12, top = 0.92)\n",
    "axFig_1 = plt.subplot(gsFig[0, 0], projection=ccrs.PlateCarree(180))\n",
    "\n",
    "gsCB = plt.GridSpec(1, 1)\n",
    "gsCB.update(left=0.14, right=0.86, bottom = 0.06, top = 0.08)\n",
    "axCB = plt.subplot(gsCB[0, 0])\n",
    "\n",
    "#-- Xarray plot\n",
    "image = composite_diurnal_peak_amplitude.plot(ax=axFig_1,\n",
    "                                              add_colorbar=False,\n",
    "                                              vmax=0.5e-7,\n",
    "                                              transform=ccrs.PlateCarree())\n",
    "\n",
    "#-- Add coastlines\n",
    "axFig_1.add_feature(cfeature.COASTLINE, edgecolor='black',linewidth=1, zorder=1)\n",
    "axFig_1.add_feature(cfeature.BORDERS, edgecolor='black',linewidth=2, zorder=1)\n",
    "axFig_1.add_feature(cfeature.STATES, edgecolor='black',linewidth=1, zorder=1)\n",
    "\n",
    "#-- Modify gridlines\n",
    "gl = axFig_1.gridlines(crs=ccrs.PlateCarree(), draw_labels=True)\n",
    "gl.xlabels_top = False ; gl.ylabels_right = False\n",
    "gl.xformatter = LONGITUDE_FORMATTER ; gl.yformatter = LATITUDE_FORMATTER\n",
    "gl.xlocator = mticker.FixedLocator([-120, -110, -100, -90, -80, -70])\n",
    "gl.ylocator = mticker.FixedLocator([15,25,35,45,55])\n",
    "gl.xlabel_style = {'size': 20} ; gl.ylabel_style = {'size': 20}\n",
    "\n",
    "#--Fix colorbar\n",
    "cb = plt.colorbar(image, cax=axCB, orientation='horizontal', extend=\"max\")\n",
    "cb.set_label(label='m/s', size=18)\n",
    "cb.ax.tick_params(labelsize=16)\n",
    "\n",
    "#--Labels\n",
    "axFig_1.set_title(\"Composite diurnal peak amplitude | LR 1-hourly | JJA 1980-1988\", fontsize=24, pad=20)\n",
    "\n",
    "#--save image\n",
    "plt.savefig('/ihesp/user/asblack/diurnal_precip/figures/composite_diurnal_peak_amplitude_LR_1-hourly_JJA_1980-1988.pdf')"
   ]
  },
  {
   "cell_type": "code",
   "execution_count": null,
   "id": "835dfea8-7e13-4286-a050-b3269fe01a87",
   "metadata": {},
   "outputs": [],
   "source": [
    "#-- Set figure plot bounds\n",
    "fig = plt.figure(figsize=(12, 10))\n",
    "\n",
    "gsFig = plt.GridSpec(1, 1)\n",
    "gsFig.update(left=0.10, right=0.90, bottom = 0.12, top = 0.92)\n",
    "axFig_1 = plt.subplot(gsFig[0, 0], projection=ccrs.PlateCarree(180))\n",
    "\n",
    "gsCB = plt.GridSpec(1, 1)\n",
    "gsCB.update(left=0.14, right=0.86, bottom = 0.06, top = 0.08)\n",
    "axCB = plt.subplot(gsCB[0, 0])\n",
    "\n",
    "#-- Xarray plot\n",
    "image = composite_diurnal_peak_phase.plot(ax=axFig_1,\n",
    "                               add_colorbar=False,\n",
    "                               levels=[0,3,6,9,12,15,18,21],\n",
    "                               colors=['navy','mediumblue','royalblue','lightsteelblue','wheat','orange','darkorange','sienna'],\n",
    "                               transform=ccrs.PlateCarree())\n",
    "\n",
    "#-- Add coastlines\n",
    "axFig_1.add_feature(cfeature.COASTLINE, edgecolor='black',linewidth=1, zorder=1)\n",
    "axFig_1.add_feature(cfeature.BORDERS, edgecolor='black',linewidth=2, zorder=1)\n",
    "axFig_1.add_feature(cfeature.STATES, edgecolor='black',linewidth=1, zorder=1)\n",
    "\n",
    "#-- Modify gridlines\n",
    "gl = axFig_1.gridlines(crs=ccrs.PlateCarree(), draw_labels=True)\n",
    "gl.xlabels_top = False ; gl.ylabels_right = False\n",
    "gl.xformatter = LONGITUDE_FORMATTER ; gl.yformatter = LATITUDE_FORMATTER\n",
    "gl.xlocator = mticker.FixedLocator([-120, -110, -100, -90, -80, -70])\n",
    "gl.ylocator = mticker.FixedLocator([15,25,35,45,55])\n",
    "gl.xlabel_style = {'size': 20} ; gl.ylabel_style = {'size': 20}\n",
    "\n",
    "#--Fix colorbar\n",
    "cb = plt.colorbar(image, cax=axCB, orientation='horizontal', extend=\"max\")\n",
    "cb.set_label(label='UTC', size=18)\n",
    "cb.ax.tick_params(labelsize=16)\n",
    "\n",
    "#--Labels\n",
    "axFig_1.set_title(\"Composite diurnal peak phase | LR 1-hourly | JJA 1980-1988\", fontsize=24, pad=20)\n",
    "\n",
    "#--save image\n",
    "plt.savefig('/ihesp/user/asblack/diurnal_precip/figures/composite_diurnal_peak_phase_LR_1-hourly_JJA_1980-1988.pdf')"
   ]
  },
  {
   "cell_type": "markdown",
   "id": "8adfd624-df9e-4d8b-8cfa-0a6fbf49e494",
   "metadata": {},
   "source": [
    "### Plot JJA s_1 yearly result"
   ]
  },
  {
   "cell_type": "code",
   "execution_count": null,
   "id": "0cbb11f5-c7e2-4927-bbc4-0abf8b1a6051",
   "metadata": {},
   "outputs": [],
   "source": [
    "s_1.idxmax(dim='hour').plot()"
   ]
  },
  {
   "cell_type": "code",
   "execution_count": null,
   "id": "1da7124e-fa3c-4390-b9c2-34cce5cec90c",
   "metadata": {},
   "outputs": [],
   "source": [
    "s_1 = xr.open_dataset('/ihesp/user/asblack/diurnal_precip/cam_h5_HR_PRECT_s1_1987_JJA.nc').s_1"
   ]
  },
  {
   "cell_type": "code",
   "execution_count": null,
   "id": "4027a954-8591-4221-88b2-fd49c642259c",
   "metadata": {},
   "outputs": [],
   "source": [
    "pp = s_1.idxmax(dim='hour')\n",
    "\n",
    "#-- Set figure plot bounds\n",
    "fig = plt.figure(figsize=(12, 10))\n",
    "\n",
    "gsFig = plt.GridSpec(1, 1)\n",
    "gsFig.update(left=0.10, right=0.90, bottom = 0.12, top = 0.92)\n",
    "axFig_1 = plt.subplot(gsFig[0, 0], projection=ccrs.PlateCarree(180))\n",
    "\n",
    "gsCB = plt.GridSpec(1, 1)\n",
    "gsCB.update(left=0.14, right=0.86, bottom = 0.06, top = 0.08)\n",
    "axCB = plt.subplot(gsCB[0, 0])\n",
    "\n",
    "#-- Xarray plot\n",
    "image = pp.plot(ax=axFig_1,\n",
    "                               add_colorbar=False,\n",
    "                               levels=[0,3,6,9,12,15,18,21],\n",
    "                               colors=['navy','mediumblue','royalblue','lightsteelblue','wheat','orange','darkorange','sienna'],\n",
    "                               transform=ccrs.PlateCarree())\n",
    "\n",
    "#-- Add coastlines\n",
    "axFig_1.add_feature(cfeature.COASTLINE, edgecolor='black',linewidth=1, zorder=1)\n",
    "axFig_1.add_feature(cfeature.BORDERS, edgecolor='black',linewidth=2, zorder=1)\n",
    "axFig_1.add_feature(cfeature.STATES, edgecolor='black',linewidth=1, zorder=1)\n",
    "\n",
    "\n",
    "#-- Modify gridlines\n",
    "gl = axFig_1.gridlines(crs=ccrs.PlateCarree(), draw_labels=True)\n",
    "gl.xlabels_top = False ; gl.ylabels_right = False\n",
    "gl.xformatter = LONGITUDE_FORMATTER ; gl.yformatter = LATITUDE_FORMATTER\n",
    "gl.xlocator = mticker.FixedLocator([-120, -110, -100, -90, -80, -70])\n",
    "gl.ylocator = mticker.FixedLocator([15,25,35,45,55])\n",
    "gl.xlabel_style = {'size': 20} ; gl.ylabel_style = {'size': 20}\n",
    "\n",
    "#--Fix colorbar\n",
    "cb = plt.colorbar(image, cax=axCB, orientation='horizontal', extend=\"max\")\n",
    "cb.set_label(label='UTC', size=18)\n",
    "cb.ax.tick_params(labelsize=16)\n",
    "\n",
    "#--Labels\n",
    "axFig_1.set_title(\"Diurnal peak phase | HR 1-hourly | JJA 1987\", fontsize=24, pad=20)\n",
    "\n",
    "#--save image\n",
    "plt.savefig('/ihesp/user/asblack/diurnal_precip/figures/diurnal_peak_phase_HR_1-hourly_JJA_1987.pdf')"
   ]
  },
  {
   "cell_type": "code",
   "execution_count": null,
   "id": "1bb52e09-5d72-485e-8143-076b0b51c14d",
   "metadata": {},
   "outputs": [],
   "source": [
    "pp = s_1.max(dim='hour')\n",
    "\n",
    "#-- Set figure plot bounds\n",
    "fig = plt.figure(figsize=(12, 10))\n",
    "\n",
    "gsFig = plt.GridSpec(1, 1)\n",
    "gsFig.update(left=0.10, right=0.90, bottom = 0.12, top = 0.92)\n",
    "axFig_1 = plt.subplot(gsFig[0, 0], projection=ccrs.PlateCarree(180))\n",
    "\n",
    "gsCB = plt.GridSpec(1, 1)\n",
    "gsCB.update(left=0.14, right=0.86, bottom = 0.06, top = 0.08)\n",
    "axCB = plt.subplot(gsCB[0, 0])\n",
    "\n",
    "#-- Xarray plot\n",
    "image = pp.plot(ax=axFig_1,\n",
    "                                              add_colorbar=False,\n",
    "                                              vmax=1e-7,\n",
    "                                              transform=ccrs.PlateCarree())\n",
    "\n",
    "#-- Add coastlines\n",
    "axFig_1.add_feature(cfeature.COASTLINE, edgecolor='black',linewidth=1, zorder=1)\n",
    "axFig_1.add_feature(cfeature.BORDERS, edgecolor='black',linewidth=2, zorder=1)\n",
    "axFig_1.add_feature(cfeature.STATES, edgecolor='black',linewidth=1, zorder=1)\n",
    "\n",
    "\n",
    "#-- Modify gridlines\n",
    "gl = axFig_1.gridlines(crs=ccrs.PlateCarree(), draw_labels=True)\n",
    "gl.xlabels_top = False ; gl.ylabels_right = False\n",
    "gl.xformatter = LONGITUDE_FORMATTER ; gl.yformatter = LATITUDE_FORMATTER\n",
    "gl.xlocator = mticker.FixedLocator([-120, -110, -100, -90, -80, -70])\n",
    "gl.ylocator = mticker.FixedLocator([15,25,35,45,55])\n",
    "gl.xlabel_style = {'size': 20} ; gl.ylabel_style = {'size': 20}\n",
    "\n",
    "#--Fix colorbar\n",
    "cb = plt.colorbar(image, cax=axCB, orientation='horizontal', extend=\"max\")\n",
    "cb.set_label(label='m/s', size=18)\n",
    "cb.ax.tick_params(labelsize=16)\n",
    "\n",
    "#--Labels\n",
    "axFig_1.set_title(\"Diurnal peak amplitude | HR 1-hourly | JJA 1987\", fontsize=24, pad=20)\n",
    "\n",
    "#--save image\n",
    "plt.savefig('/ihesp/user/asblack/diurnal_precip/figures/diurnal_peak_amplitude_HR_1-hourly_JJA_1987.pdf')"
   ]
  },
  {
   "cell_type": "code",
   "execution_count": null,
   "id": "4275c455-4b7b-4c1b-ac69-12d11f5c6d0d",
   "metadata": {},
   "outputs": [],
   "source": []
  }
 ],
 "metadata": {
  "kernelspec": {
   "display_name": "Python 3",
   "language": "python",
   "name": "python3"
  },
  "language_info": {
   "codemirror_mode": {
    "name": "ipython",
    "version": 3
   },
   "file_extension": ".py",
   "mimetype": "text/x-python",
   "name": "python",
   "nbconvert_exporter": "python",
   "pygments_lexer": "ipython3",
   "version": "3.7.10"
  },
  "toc-showtags": false
 },
 "nbformat": 4,
 "nbformat_minor": 5
}
