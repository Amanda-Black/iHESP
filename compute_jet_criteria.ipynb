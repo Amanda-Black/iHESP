{
 "cells": [
  {
   "cell_type": "markdown",
   "id": "ee8e14bb-9481-485d-8ab3-0ca926792fe1",
   "metadata": {},
   "source": [
    "<font size=\"4\">This notebook will compute values for GPLLJ criteria adopted from [Doubler et al. (2015)][1].:</font>\n",
    "\n",
    "[1]: https://doi.org/10.1175/JAMC-D-14-0311.1"
   ]
  },
  {
   "cell_type": "code",
   "execution_count": 1,
   "id": "6df6833a-7a3f-4d6f-b504-3dc754a9a430",
   "metadata": {},
   "outputs": [],
   "source": [
    "import numpy as np\n",
    "import xarray as xr\n",
    "from datetime import datetime\n",
    "import matplotlib.pyplot as plt\n",
    "import matplotlib.ticker as mticker\n",
    "from scipy.signal import argrelextrema"
   ]
  },
  {
   "cell_type": "code",
   "execution_count": 2,
   "id": "41497a8b-6277-4ec7-ac93-ae0191dc6414",
   "metadata": {},
   "outputs": [],
   "source": [
    "import cartopy\n",
    "cartopy.config['pre_existing_data_dir']='/ihesp/shared/cartopy_features'\n",
    "import cartopy.crs as ccrs\n",
    "import cartopy.feature as cfeature\n",
    "from cartopy.mpl.gridliner import LONGITUDE_FORMATTER, LATITUDE_FORMATTER"
   ]
  },
  {
   "cell_type": "markdown",
   "id": "02eec38a-1f84-47ae-b746-ff5bd2e551a2",
   "metadata": {},
   "source": [
    "#### Read LR wind data into memory"
   ]
  },
  {
   "cell_type": "code",
   "execution_count": 3,
   "id": "98b2f0e9-3e4d-4d1f-b0c9-016ee31df980",
   "metadata": {},
   "outputs": [],
   "source": [
    "#-- LRMIP 6-hourly (instantaneous) wind data - regridded\n",
    "#-- original path = '/ihesp/archive/LR/b.e13.B1950TRC5.ne30_g16.ihesp24_1950-2050.002/atm/hist/'\n",
    "\n",
    "year = '1989'\n",
    "\n",
    "path = '/ihesp/user/asblack/regridded/'\n",
    "f_U_1 = 'cam_h3_LR_U_'+year+'052700Z_'+year+'061400Z.nc'\n",
    "f_U_2 = 'cam_h3_LR_U_'+year+'061406Z_'+year+'070206Z.nc'\n",
    "f_U_3 = 'cam_h3_LR_U_'+year+'070212Z_'+year+'072012Z.nc'\n",
    "f_U_4 = 'cam_h3_LR_U_'+year+'072018Z_'+year+'080718Z.nc'\n",
    "f_U_5 = 'cam_h3_LR_U_'+year+'080800Z_'+year+'082600Z.nc'\n",
    "f_U_6 = 'cam_h3_LR_U_'+year+'082606Z_'+year+'091306Z.nc'\n",
    "\n",
    "f_V_1 = 'cam_h3_LR_V_'+year+'052700Z_'+year+'061400Z.nc'\n",
    "f_V_2 = 'cam_h3_LR_V_'+year+'061406Z_'+year+'070206Z.nc'\n",
    "f_V_3 = 'cam_h3_LR_V_'+year+'070212Z_'+year+'072012Z.nc'\n",
    "f_V_4 = 'cam_h3_LR_V_'+year+'072018Z_'+year+'080718Z.nc'\n",
    "f_V_5 = 'cam_h3_LR_V_'+year+'080800Z_'+year+'082600Z.nc'\n",
    "f_V_6 = 'cam_h3_LR_V_'+year+'082606Z_'+year+'091306Z.nc'\n",
    "\n",
    "filenames_U = (path+f_U_1, path+f_U_2, path+f_U_3,\n",
    "               path+f_U_4, path+f_U_5, path+f_U_6)\n",
    "filenames_V = (path+f_V_1, path+f_V_2, path+f_V_3,\n",
    "               path+f_V_4, path+f_V_5, path+f_V_6)"
   ]
  },
  {
   "cell_type": "code",
   "execution_count": 4,
   "id": "fe3bb9d4-38fa-4dbd-b39b-ba751dd8ba76",
   "metadata": {},
   "outputs": [],
   "source": [
    "ds_U = xr.open_mfdataset(filenames_U,\n",
    "                       engine='netcdf4',\n",
    "                       parallel=True,\n",
    "                       concat_dim='time',\n",
    "                       data_vars='minimal',\n",
    "                       coords='minimal',\n",
    "                       compat='override').U.isel(lev=slice(1,13))\n",
    "\n",
    "ds_V = xr.open_mfdataset(filenames_V,\n",
    "                       engine='netcdf4',\n",
    "                       parallel=True,\n",
    "                       concat_dim='time',\n",
    "                       data_vars='minimal',\n",
    "                       coords='minimal',\n",
    "                       compat='override').V.isel(lev=slice(1,13))"
   ]
  },
  {
   "cell_type": "code",
   "execution_count": 5,
   "id": "2e473452-5882-4633-bd00-83d591b2190b",
   "metadata": {},
   "outputs": [],
   "source": [
    "#-- Slice over JJA months\n",
    "#-- N.B. must slice by time index position instead of label (.sel throws error)\n",
    "ds_U = ds_U.isel(time=slice(20,388))\n",
    "ds_V = ds_V.isel(time=slice(20,388))"
   ]
  },
  {
   "cell_type": "code",
   "execution_count": 6,
   "id": "be46f111-9ec7-4dac-884b-aac34d11c88d",
   "metadata": {},
   "outputs": [],
   "source": [
    "#-- Slice over GoM region\n",
    "global_offset = 360\n",
    "ds_U = ds_U.sel(lat=slice(15,55), lon=slice(global_offset-120,global_offset-70))\n",
    "ds_V = ds_V.sel(lat=slice(15,55), lon=slice(global_offset-120,global_offset-70))"
   ]
  },
  {
   "cell_type": "code",
   "execution_count": 7,
   "id": "5d6baab2-6edf-4028-9532-2db709a6b20a",
   "metadata": {},
   "outputs": [
    {
     "name": "stdout",
     "output_type": "stream",
     "text": [
      "Done reading data into memory: 0:00:00.584979\n"
     ]
    }
   ],
   "source": [
    "start = datetime.now()\n",
    "\n",
    "ds_U.load()\n",
    "ds_V.load()\n",
    "\n",
    "print('Done reading data into memory:', datetime.now() - start)"
   ]
  },
  {
   "cell_type": "code",
   "execution_count": 8,
   "id": "8011eb7d-32df-4653-89f4-06e6dbf7d604",
   "metadata": {},
   "outputs": [],
   "source": [
    "ds_UV = xr.Dataset({\n",
    "    'U': xr.DataArray(\n",
    "                data   = ds_U.data,\n",
    "                dims   = ['time', 'lev', 'lat', 'lon'],\n",
    "                coords = {'time': ds_U.time.data,\n",
    "                          'lev': ds_U.lev.data,\n",
    "                          'lat': ds_U.lat.data,\n",
    "                          'lon': ds_U.lon.data},\n",
    "                attrs  = {\n",
    "                    'description': 'Zonal wind',\n",
    "                    'units'     : 'm/s'\n",
    "                    }\n",
    "                ),\n",
    "    'V': xr.DataArray(\n",
    "                data   = ds_V.data,\n",
    "                dims   = ['time', 'lev', 'lat', 'lon'],\n",
    "                coords = {'time': ds_V.time.data,\n",
    "                          'lev': ds_V.lev.data,\n",
    "                          'lat': ds_V.lat.data,\n",
    "                          'lon': ds_V.lon.data},\n",
    "                attrs  = {\n",
    "                    'description': 'Meridional wind',\n",
    "                    'units'     : 'm/s'\n",
    "                    }\n",
    "                )\n",
    "            },\n",
    "        attrs = {'description': 'LRMIP 6-hourly U,V components, regridded to lat/lon'}\n",
    "    )"
   ]
  },
  {
   "cell_type": "code",
   "execution_count": 9,
   "id": "a0880b19-a924-49ae-a86e-5453ccd10896",
   "metadata": {},
   "outputs": [],
   "source": [
    "#-- Write to output file\n",
    "path = '/ihesp/user/asblack/regridded/'\n",
    "filename = 'cam_h3_LR_U_V_'+year+'060100Z_'+year+'083118Z.nc'\n",
    "ds_UV.to_netcdf(path + filename, format=\"NETCDF4_CLASSIC\")"
   ]
  },
  {
   "cell_type": "markdown",
   "id": "495f5623-4033-45ad-8961-699e20f0635b",
   "metadata": {},
   "source": [
    "### Criterion 1: maximum wind speed at or below 700 hPa is ≥ 12 m/s"
   ]
  },
  {
   "cell_type": "code",
   "execution_count": 10,
   "id": "d8e173f5-cc42-4ac3-aed2-5f6acf4f7b06",
   "metadata": {},
   "outputs": [],
   "source": [
    "#-- Compute wind speed on resampled wind data\n",
    "wind_speed = np.sqrt( np.square(ds_U) + np.square(ds_V) )\n",
    "\n",
    "#-- Compute wind maxima and level of wind maxima at each grid point below 700 hPa\n",
    "max_val = wind_speed.isel(lev=slice(2, 12)).max(dim='lev')\n",
    "max_level = wind_speed.isel(lev=slice(2, 12)).idxmax(dim='lev')"
   ]
  },
  {
   "cell_type": "markdown",
   "id": "4c207e43-1c51-4378-97c2-65ba280eba27",
   "metadata": {},
   "source": [
    "### Criterion 2: wind direction at level of maximum wind speed is southerly (113° and 247°)"
   ]
  },
  {
   "cell_type": "code",
   "execution_count": 11,
   "id": "ef213db3-fc35-459d-84be-3e969c9b4e9d",
   "metadata": {},
   "outputs": [],
   "source": [
    "#-- Compute wind direction at the level of wind maxima for each grid point\n",
    "uu = ds_U.sel(lev=max_level)\n",
    "vv = ds_V.sel(lev=max_level)\n",
    "wind_dir = np.mod(180+180/np.pi*np.arctan2(uu,vv), 360)\n",
    "\n",
    "criteria_2 = xr.zeros_like(wind_dir)\n",
    "#-- Make any non-southerly wind direction value equal to zero\n",
    "criteria_2 = wind_dir.where(wind_dir >= 113.0, 0).where(wind_dir <= 247, 0)\n",
    "#-- Make southerly wind direction values equal to one\n",
    "criteria_2 = criteria_2.where(criteria_2 == 0, 1)"
   ]
  },
  {
   "cell_type": "markdown",
   "id": "414f1d97-6107-454c-b8ab-ec2d3d905df7",
   "metadata": {},
   "source": [
    "### Criterion 3: wind speed decreased by ≥6 m/s from the level of maximum wind speed to the next minimum above or to 550 hPa (whichever was lower)"
   ]
  },
  {
   "cell_type": "code",
   "execution_count": 12,
   "id": "116dd6f1-ad4c-47ae-b365-18fe98dccc89",
   "metadata": {},
   "outputs": [],
   "source": [
    "#-- Pad values of wind speed below the maximum as the maximum value (a hack to avoid uneven slicing to find first minimum above)\n",
    "ws_padded = wind_speed.where(wind_speed.lev<=wind_speed.isel(lev=slice(2, 12)).idxmax(dim='lev'), max_val)"
   ]
  },
  {
   "cell_type": "code",
   "execution_count": 13,
   "id": "66ee2022-7fb9-4c91-9cc8-9e063db36493",
   "metadata": {},
   "outputs": [
    {
     "name": "stdout",
     "output_type": "stream",
     "text": [
      "Done computing: 0:09:19.981004\n"
     ]
    }
   ],
   "source": [
    "#-- Use scipy to locate all local minima in vertical column above the wind max, saving the FIRST minimum above the max\n",
    "#-- If no minima exist above the wind max, the 550 level (idx=0) is saved\n",
    "#-- N.B. levels are reversed for this data, hence the index of -1\n",
    "start = datetime.now()\n",
    "\n",
    "first_local_min_idx = xr.zeros_like(ws_padded.isel(lev=0))\n",
    "\n",
    "for time_idx in np.arange(0, len(ws_padded.time)):\n",
    "    for lat_idx in np.arange(0, len(ws_padded.lat)):\n",
    "        for lon_idx in np.arange(0, len(ws_padded.lon)):\n",
    "                               \n",
    "            local_min_idxs = argrelextrema(ws_padded[time_idx,:,lat_idx,lon_idx].values, np.less)\n",
    "        \n",
    "            if (np.any(local_min_idxs) == True):\n",
    "                first_local_min_idx[time_idx,lat_idx,lon_idx] = local_min_idxs[0][-1]\n",
    "\n",
    "#-- Convert to integers\n",
    "first_local_min_idx = first_local_min_idx.astype(int)\n",
    "\n",
    "print('Done computing:', datetime.now() - start)"
   ]
  },
  {
   "cell_type": "code",
   "execution_count": 14,
   "id": "e96cf0d4-7c27-4c2c-a755-2a34a255c56d",
   "metadata": {},
   "outputs": [],
   "source": [
    "#-- Find minimum wind speed values at the level of first minimum above maximum\n",
    "min_above_max = ws_padded.isel(lev=first_local_min_idx)"
   ]
  },
  {
   "cell_type": "code",
   "execution_count": 15,
   "id": "16c4d572-0379-403b-8a6d-5905afd4b0bc",
   "metadata": {},
   "outputs": [],
   "source": [
    "#-- Compute the difference: this value should be >= 6 m/s in order to pass the jet criterion 3\n",
    "diff_above = max_val - min_above_max"
   ]
  },
  {
   "cell_type": "markdown",
   "id": "798689cf-a9c1-4e08-8a89-6503d4e230c2",
   "metadata": {},
   "source": [
    "### Criterion 4: wind speed decreased by ≥6 m/s below the level of maximum wind speed"
   ]
  },
  {
   "cell_type": "code",
   "execution_count": 16,
   "id": "7cb426cc-defa-44cc-9d5d-a8454632c642",
   "metadata": {},
   "outputs": [],
   "source": [
    "#-- Isolate wind speed below 700 hPa\n",
    "ws_below700 = wind_speed.isel(lev=slice(2,12))"
   ]
  },
  {
   "cell_type": "code",
   "execution_count": 17,
   "id": "9a1b1244-4f32-4603-b59a-6364ee4ac22c",
   "metadata": {},
   "outputs": [],
   "source": [
    "#-- Pad values of wind speed above the maximum as the maximum value (a hack to avoid uneven slicing to find minimum)\n",
    "ws_below700_padded = ws_below700.where(ws_below700.lev>=ws_below700.idxmax(dim='lev'), max_val)"
   ]
  },
  {
   "cell_type": "code",
   "execution_count": 18,
   "id": "8c61d957-9d8a-4cf2-b317-0107891fa1b9",
   "metadata": {},
   "outputs": [],
   "source": [
    "#-- Compute minimum below the maximum\n",
    "min_below_max = ws_below700_padded.min(dim='lev')"
   ]
  },
  {
   "cell_type": "code",
   "execution_count": 19,
   "id": "d8dda583-a6f4-47ff-8e61-4ce5f950182a",
   "metadata": {},
   "outputs": [],
   "source": [
    "#-- Compute the difference: this value should be >= 6 m/s in order to pass the jet criterion 4\n",
    "diff_below = max_val - min_below_max"
   ]
  },
  {
   "cell_type": "markdown",
   "id": "17285212-dd1f-4fe7-a38b-df42ae7f821a",
   "metadata": {},
   "source": [
    "### Write output to netcdf file"
   ]
  },
  {
   "cell_type": "code",
   "execution_count": 20,
   "id": "b7f770b8-bd8a-4aff-9888-e2fbd6fa2dea",
   "metadata": {},
   "outputs": [],
   "source": [
    "ds_jet = xr.Dataset({\n",
    "    'wind_max': xr.DataArray(\n",
    "                data   = max_val.data,\n",
    "                dims   = ['time', 'lat', 'lon'],\n",
    "                coords = {'time': max_val.time.data,\n",
    "                          'lat': max_val.lat.data,\n",
    "                          'lon': max_val.lon.data},\n",
    "                attrs  = {\n",
    "                    'description': 'Maximum wind value at or below 700 hPa',\n",
    "                    'units'     : 'm/s'\n",
    "                    }\n",
    "                ),\n",
    "    'criteria_2_flag': xr.DataArray(\n",
    "                data   = criteria_2.data,\n",
    "                dims   = ['time', 'lat', 'lon'],\n",
    "                coords = {'time': criteria_2.time.data,\n",
    "                          'lat': criteria_2.lat.data,\n",
    "                          'lon': criteria_2.lon.data},\n",
    "                attrs  = {\n",
    "                    'description': 'Value of 1 where wind is southerly (113-247 deg) at level of wind maximum',\n",
    "                    'units'     : 'binary_flag'\n",
    "                    }\n",
    "                ),\n",
    "    'diff_above': xr.DataArray(\n",
    "                data   = diff_above.data,\n",
    "                dims   = ['time', 'lat', 'lon'],\n",
    "                coords = {'time': diff_above.time.data,\n",
    "                          'lat': diff_above.lat.data,\n",
    "                          'lon': diff_above.lon.data},\n",
    "                attrs  = {\n",
    "                    'description': 'wind speed difference between level of maximum wind speed and the next minimum above (or to 550 hPa, whichever was lower)',\n",
    "                    'units'     : 'm/s'\n",
    "                    }\n",
    "                ),\n",
    "    'diff_below': xr.DataArray(\n",
    "                data   = diff_below.data,\n",
    "                dims   = ['time', 'lat', 'lon'],\n",
    "                coords = {'time': diff_below.time.data,\n",
    "                          'lat': diff_below.lat.data,\n",
    "                          'lon': diff_below.lon.data},\n",
    "                attrs  = {\n",
    "                    'description': 'wind speed difference between level of maximum wind speed and the minimum below',\n",
    "                    'units'     : 'm/s'\n",
    "                    }\n",
    "                )\n",
    "            },\n",
    "        attrs = {'description': 'Computed from LRMIP 6-hourly u,v components'}\n",
    "    )"
   ]
  },
  {
   "cell_type": "code",
   "execution_count": 21,
   "id": "ad301cb0-9e89-47ce-9092-8c56feb36a14",
   "metadata": {},
   "outputs": [],
   "source": [
    "#-- Write to output file\n",
    "path = '/ihesp/user/asblack/GPLLJ/'\n",
    "filename = 'cam_h3_LR_6-hourly_jet_info_'+year+'.nc'\n",
    "ds_jet.to_netcdf(path + filename, format=\"NETCDF4_CLASSIC\")"
   ]
  },
  {
   "cell_type": "code",
   "execution_count": null,
   "id": "c284ab2a-244d-4066-8911-279ca7e6000d",
   "metadata": {},
   "outputs": [],
   "source": []
  }
 ],
 "metadata": {
  "kernelspec": {
   "display_name": "Python 3",
   "language": "python",
   "name": "python3"
  },
  "language_info": {
   "codemirror_mode": {
    "name": "ipython",
    "version": 3
   },
   "file_extension": ".py",
   "mimetype": "text/x-python",
   "name": "python",
   "nbconvert_exporter": "python",
   "pygments_lexer": "ipython3",
   "version": "3.7.10"
  }
 },
 "nbformat": 4,
 "nbformat_minor": 5
}
